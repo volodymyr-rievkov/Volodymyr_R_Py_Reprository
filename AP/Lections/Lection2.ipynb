{
 "cells": [
  {
   "cell_type": "markdown",
   "metadata": {},
   "source": [
    "# Exception"
   ]
  },
  {
   "cell_type": "code",
   "execution_count": 3,
   "metadata": {},
   "outputs": [
    {
     "ename": "ZeroDivisionError",
     "evalue": "division by zero",
     "output_type": "error",
     "traceback": [
      "\u001b[0;31m---------------------------------------------------------------------------\u001b[0m",
      "\u001b[0;31mZeroDivisionError\u001b[0m                         Traceback (most recent call last)",
      "Cell \u001b[0;32mIn[3], line 1\u001b[0m\n\u001b[0;32m----> 1\u001b[0m \u001b[38;5;241m100\u001b[39m \u001b[38;5;241m/\u001b[39m \u001b[38;5;241m0\u001b[39m\n",
      "\u001b[0;31mZeroDivisionError\u001b[0m: division by zero"
     ]
    }
   ],
   "source": [
    "100 / 0"
   ]
  },
  {
   "cell_type": "code",
   "execution_count": 4,
   "metadata": {},
   "outputs": [
    {
     "ename": "TypeError",
     "evalue": "unsupported operand type(s) for +: 'int' and 'str'",
     "output_type": "error",
     "traceback": [
      "\u001b[0;31m---------------------------------------------------------------------------\u001b[0m",
      "\u001b[0;31mTypeError\u001b[0m                                 Traceback (most recent call last)",
      "Cell \u001b[0;32mIn[4], line 1\u001b[0m\n\u001b[0;32m----> 1\u001b[0m \u001b[38;5;241m2\u001b[39m \u001b[38;5;241m+\u001b[39m \u001b[38;5;124m'\u001b[39m\u001b[38;5;124m1\u001b[39m\u001b[38;5;124m'\u001b[39m\n",
      "\u001b[0;31mTypeError\u001b[0m: unsupported operand type(s) for +: 'int' and 'str'"
     ]
    }
   ],
   "source": [
    "2 + '1'"
   ]
  },
  {
   "cell_type": "code",
   "execution_count": 5,
   "metadata": {},
   "outputs": [
    {
     "ename": "ValueError",
     "evalue": "invalid literal for int() with base 10: 'qwerty'",
     "output_type": "error",
     "traceback": [
      "\u001b[0;31m---------------------------------------------------------------------------\u001b[0m",
      "\u001b[0;31mValueError\u001b[0m                                Traceback (most recent call last)",
      "Cell \u001b[0;32mIn[5], line 1\u001b[0m\n\u001b[0;32m----> 1\u001b[0m \u001b[38;5;28mint\u001b[39m(\u001b[38;5;124m'\u001b[39m\u001b[38;5;124mqwerty\u001b[39m\u001b[38;5;124m'\u001b[39m)\n",
      "\u001b[0;31mValueError\u001b[0m: invalid literal for int() with base 10: 'qwerty'"
     ]
    }
   ],
   "source": [
    "int('qwerty')"
   ]
  },
  {
   "cell_type": "code",
   "execution_count": null,
   "metadata": {},
   "outputs": [],
   "source": [
    "'''\n",
    "BaseException - базовий виняток, від якого беруть початок всі інші.\n",
    "    SystemExit - виняток, що породжується функцією sys.exit при виході з програми.\n",
    "    KeyboardInterrupt - породжується при перериванні програми користувачем (зазвичай сполучення клавіш Ctrl + C).\n",
    "    GeneratorExit - породжується при виклику методу close об'єкта generator.\n",
    "    Exception - а ось тут вже закінчуються повністю системні виключення (які краще не чіпати) і починаються звичайні, з якими можна працювати.\n",
    "        StopIteration - породжується вбудованою функцією next, якщо в Ітератор більше немає елементів.\n",
    "        ArithmeticError - арифметична помилка.\n",
    "            FloatingPointError - породжується при невдалому виконанні операції з плаваючою комою. На практиці зустрічається нечасто.\n",
    "            OverflowError - виникає, коли результат арифметичної операції занадто великий для подання. Чи не з'являється при звичайній роботі з цілими числами (так як python підтримує довгі числа), але може виникати в деяких інших випадках.\n",
    "            ZeroDivisionError - поділ на нуль.\n",
    "        AssertionError - вираз у функції assert помилково.\n",
    "        AttributeError - об'єкт не має даного атрибута (значення або методу).\n",
    "        BufferError - операція, пов'язана з буфером, не може бути виконана.\n",
    "        EOFError - функція натрапила на кінець файлу і не змогла прочитати те, що хотіла.\n",
    "        ImportError - не вдалося імпортування модуля або його атрибута.\n",
    "        LookupError - некоректний індекс або ключ.\n",
    "            IndexError - індекс не входить в діапазон елементів.\n",
    "            KeyError - неіснуючий ключ (в словнику, безлічі або іншому об'єкті).\n",
    "        MemoryError - недостатньо пам'яті.\n",
    "        NameError - запиту, не знайдено змінної з таким ім'ям.\n",
    "            UnboundLocalError - зроблено посилання на локальну змінну у функції, але змінна не визначена раніше.\n",
    "        OSError - помилка, пов'язана з системою.\n",
    "            BlockingIOError\n",
    "            ChildProcessError - невдача при операції з дочірнім процесом.\n",
    "            ConnectionError - базовий клас для винятків, пов'язаних з підключеннями.\n",
    "                BrokenPipeError\n",
    "                ConnectionAbortedError\n",
    "                ConnectionRefusedError\n",
    "                ConnectionResetError\n",
    "            FileExistsError - спроба створення файлу або директорії, яка вже існує.\n",
    "            FileNotFoundError - файл або директорія не існує.\n",
    "            InterruptedError - системний виклик перерваний входять сигналом.\n",
    "            IsADirectoryError - очікувався файл, але це директорія.\n",
    "            NotADirectoryError - очікувалася директорія, але це файл.\n",
    "            PermissionError - не вистачає прав доступу.\n",
    "            ProcessLookupError - зазначеного процесу не існує.\n",
    "            TimeoutError - закінчився час очікування.\n",
    "        ReferenceError - спроба доступу до атрибуту зі слабкою посиланням.\n",
    "        RuntimeError - виникає, коли винятку не потрапляє ні під одну з інших категорій.\n",
    "        NotImplementedError - виникає, коли абстрактні методи класу вимагають перевизначення в дочірніх класах.\n",
    "        SyntaxError - синтаксична помилка.\n",
    "            IndentationError - неправильні відступи.\n",
    "                TabError - змішування в відступи табуляції і пробілів.\n",
    "        SystemError - внутрішня помилка.\n",
    "        TypeError - операція застосована до об'єкта невідповідного типу.\n",
    "        ValueError - функція отримує аргумент правильного типу, але некоректного значення.\n",
    "        UnicodeError - помилка, пов'язана з кодуванням / розкодуванням unicode в рядках.\n",
    "            UnicodeEncodeError - виняток, пов'язане з кодуванням unicode.\n",
    "            UnicodeDecodeError - виняток, пов'язане з декодуванням unicode.\n",
    "            UnicodeTranslateError - виняток, пов'язане з переведенням unicode.\n",
    "        Warning - попередження.\n",
    "'''"
   ]
  },
  {
   "cell_type": "code",
   "execution_count": 16,
   "metadata": {},
   "outputs": [
    {
     "name": "stdout",
     "output_type": "stream",
     "text": [
      "Ділення на 0\n"
     ]
    }
   ],
   "source": [
    "try:\n",
    "    k = 1 / exceptx\n",
    "except TypeError:\n",
    "    k = 'Type error!!!' \n",
    "except ZeroDivisionError:\n",
    "# except ArithmeticError:\n",
    "# except BaseException:\n",
    "    k = \"Ділення на 0\"\n",
    "except:\n",
    "    k = 'Somethig else'\n",
    "\n",
    "exceptx = 0\n",
    "print(k)"
   ]
  },
  {
   "cell_type": "code",
   "execution_count": 19,
   "metadata": {},
   "outputs": [
    {
     "name": "stdout",
     "output_type": "stream",
     "text": [
      "100\n",
      "\n",
      "200\n",
      "\n",
      "101\n",
      "\n",
      "300\n",
      "Все ОК\n",
      "[100, 200, 101, 300]\n",
      "Файл закрито\n"
     ]
    }
   ],
   "source": [
    "f = open('1.txt')\n",
    "ints = []\n",
    "try:\n",
    "    for line in f:\n",
    "        ints.append(int(line))\n",
    "        print(line)\n",
    "except ValueError:\n",
    "    print('Це не число. Виходимо.')\n",
    "except Exception:\n",
    "    print('Це взагалі не відомо що')\n",
    "else:\n",
    "    print('Все ОК')\n",
    "    print(ints)\n",
    "finally:\n",
    "    f.close()\n",
    "    print('Файл закрито')"
   ]
  },
  {
   "cell_type": "code",
   "execution_count": 22,
   "metadata": {},
   "outputs": [
    {
     "name": "stdout",
     "output_type": "stream",
     "text": [
      "Got Bad\n"
     ]
    }
   ],
   "source": [
    "class Bad(Exception):\n",
    "    pass\n",
    "\n",
    "def doomed():\n",
    "    raise Bad()\n",
    "    \n",
    "try:\n",
    "    doomed()\n",
    "except Bad:\n",
    "    print('Got Bad')\n",
    "\n",
    "# raise ValueError('My error')"
   ]
  },
  {
   "cell_type": "markdown",
   "metadata": {},
   "source": [
    "# Модулі"
   ]
  },
  {
   "cell_type": "code",
   "execution_count": 23,
   "metadata": {},
   "outputs": [
    {
     "data": {
      "text/plain": [
       "'/Users/vyklyuk/Documents/Vykladannya/Python/Lection2'"
      ]
     },
     "execution_count": 23,
     "metadata": {},
     "output_type": "execute_result"
    }
   ],
   "source": [
    "import os\n",
    "os.getcwd()"
   ]
  },
  {
   "cell_type": "code",
   "execution_count": 24,
   "metadata": {},
   "outputs": [
    {
     "name": "stdout",
     "output_type": "stream",
     "text": [
      "1726910315.5956511\n",
      "0.3784005469168491\n"
     ]
    }
   ],
   "source": [
    "import time, random\n",
    "print(time.time())\n",
    "print(random.random())"
   ]
  },
  {
   "cell_type": "code",
   "execution_count": 25,
   "metadata": {},
   "outputs": [
    {
     "data": {
      "text/plain": [
       "3.141592653589793"
      ]
     },
     "execution_count": 25,
     "metadata": {},
     "output_type": "execute_result"
    }
   ],
   "source": [
    "import math\n",
    "math.pi"
   ]
  },
  {
   "cell_type": "code",
   "execution_count": 27,
   "metadata": {},
   "outputs": [
    {
     "data": {
      "text/plain": [
       "10"
      ]
     },
     "execution_count": 27,
     "metadata": {},
     "output_type": "execute_result"
    }
   ],
   "source": [
    "math.pipi = 10\n",
    "math.pipi"
   ]
  },
  {
   "cell_type": "code",
   "execution_count": 31,
   "metadata": {},
   "outputs": [
    {
     "data": {
      "text/plain": [
       "<module 'math' from '/Users/vyklyuk/anaconda3/lib/python3.11/lib-dynload/math.cpython-311-darwin.so'>"
      ]
     },
     "execution_count": 31,
     "metadata": {},
     "output_type": "execute_result"
    }
   ],
   "source": [
    "import importlib\n",
    "importlib.reload(math)"
   ]
  },
  {
   "cell_type": "code",
   "execution_count": 32,
   "metadata": {},
   "outputs": [
    {
     "data": {
      "text/plain": [
       "10"
      ]
     },
     "execution_count": 32,
     "metadata": {},
     "output_type": "execute_result"
    }
   ],
   "source": [
    "math.pipi"
   ]
  },
  {
   "cell_type": "code",
   "execution_count": null,
   "metadata": {},
   "outputs": [],
   "source": [
    "# Використання псевдонімів"
   ]
  },
  {
   "cell_type": "code",
   "execution_count": 35,
   "metadata": {},
   "outputs": [
    {
     "data": {
      "text/plain": [
       "3.141592653589793"
      ]
     },
     "execution_count": 35,
     "metadata": {},
     "output_type": "execute_result"
    }
   ],
   "source": [
    "import math as m\n",
    "m.pi"
   ]
  },
  {
   "cell_type": "code",
   "execution_count": 36,
   "metadata": {},
   "outputs": [
    {
     "name": "stdout",
     "output_type": "stream",
     "text": [
      "2.718281828459045\n",
      "5\n"
     ]
    }
   ],
   "source": [
    "from math import e, ceil as c\n",
    "print(e)\n",
    "print(c(4.6))"
   ]
  },
  {
   "cell_type": "code",
   "execution_count": 37,
   "metadata": {},
   "outputs": [],
   "source": [
    "from math import (sin, cos, tan, atan)"
   ]
  },
  {
   "cell_type": "code",
   "execution_count": 38,
   "metadata": {},
   "outputs": [
    {
     "name": "stdout",
     "output_type": "stream",
     "text": [
      "3.11.5 (main, Sep 11 2023, 08:31:25) [Clang 14.0.6 ]\n",
      "sys.version_info(major=3, minor=11, micro=5, releaselevel='final', serial=0)\n"
     ]
    }
   ],
   "source": [
    "from sys import *\n",
    "print(version)\n",
    "print(version_info)"
   ]
  },
  {
   "cell_type": "code",
   "execution_count": null,
   "metadata": {},
   "outputs": [],
   "source": [
    "# Власний модуль"
   ]
  },
  {
   "cell_type": "code",
   "execution_count": 39,
   "metadata": {
    "collapsed": true,
    "jupyter": {
     "outputs_hidden": true
    },
    "tags": []
   },
   "outputs": [
    {
     "name": "stdout",
     "output_type": "stream",
     "text": [
      "['/Users/vyklyuk/Documents/Vykladannya/Python/Lection2', '/Users/vyklyuk/anaconda3/lib/python311.zip', '/Users/vyklyuk/anaconda3/lib/python3.11', '/Users/vyklyuk/anaconda3/lib/python3.11/lib-dynload', '', '/Users/vyklyuk/anaconda3/lib/python3.11/site-packages', '/Users/vyklyuk/anaconda3/lib/python3.11/site-packages/aeosa']\n",
      "adagietto\n",
      "\n",
      "agrito\n",
      "\n",
      "ailanto\n",
      "\n",
      "Alberto\n",
      "\n",
      "allegretto\n",
      "\n",
      "alto\n",
      "\n",
      "amoretto\n",
      "\n",
      "annatto\n",
      "\n",
      "anotto\n",
      "\n",
      "antimosquito\n",
      "\n",
      "appassionato\n",
      "\n",
      "araguato\n",
      "\n",
      "areito\n",
      "\n",
      "arnotto\n",
      "\n",
      "asiento\n",
      "\n",
      "assiento\n",
      "\n",
      "Aueto\n",
      "\n",
      "auto\n",
      "\n",
      "aweto\n",
      "\n",
      "Bamangwato\n",
      "\n",
      "baroto\n",
      "\n",
      "basto\n",
      "\n",
      "Basuto\n",
      "\n",
      "bemotto\n",
      "\n",
      "beneplacito\n",
      "\n",
      "beveto\n",
      "\n",
      "bito\n",
      "\n",
      "blotto\n",
      "\n",
      "bonito\n",
      "\n",
      "bouto\n",
      "\n",
      "brasiletto\n",
      "\n",
      "burrito\n",
      "\n",
      "caimito\n",
      "\n",
      "canoncito\n",
      "\n",
      "canto\n",
      "\n",
      "Capito\n",
      "\n",
      "capriccetto\n",
      "\n",
      "carapato\n",
      "\n",
      "cavetto\n",
      "\n",
      "cento\n",
      "\n",
      "chanchito\n",
      "\n",
      "Chiquito\n",
      "\n",
      "cigarito\n",
      "\n",
      "cinquecento\n",
      "\n",
      "concerto\n",
      "\n",
      "Consolato\n",
      "\n",
      "conto\n",
      "\n",
      "contrafagotto\n",
      "\n",
      "contralto\n",
      "\n",
      "contrapunto\n",
      "\n",
      "coquito\n",
      "\n",
      "coranto\n",
      "\n",
      "cornuto\n",
      "\n",
      "corvetto\n",
      "\n",
      "coto\n",
      "\n",
      "countermanifesto\n",
      "\n",
      "counterpronunciamento\n",
      "\n",
      "cubito\n",
      "\n",
      "Cumanagoto\n",
      "\n",
      "decimosexto\n",
      "\n",
      "demilegato\n",
      "\n",
      "diketo\n",
      "\n",
      "dipetto\n",
      "\n",
      "ditto\n",
      "\n",
      "divoto\n",
      "\n",
      "Doto\n",
      "\n",
      "ducato\n",
      "\n",
      "egipto\n",
      "\n",
      "enamorato\n",
      "\n",
      "esparto\n",
      "\n",
      "Esperanto\n",
      "\n",
      "exdelicto\n",
      "\n",
      "falsetto\n",
      "\n",
      "farolito\n",
      "\n",
      "fenestrato\n",
      "\n",
      "ferretto\n",
      "\n",
      "fianchetto\n",
      "\n",
      "frijolito\n",
      "\n",
      "garabato\n",
      "\n",
      "geronto\n",
      "\n",
      "ghetto\n",
      "\n",
      "gigliato\n",
      "\n",
      "graffito\n",
      "\n",
      "grotto\n",
      "\n",
      "Guato\n",
      "\n",
      "guayroto\n",
      "\n",
      "gusto\n",
      "\n",
      "hereinto\n",
      "\n",
      "hereto\n",
      "\n",
      "hereunto\n",
      "\n",
      "Hianakoto\n",
      "\n",
      "Hibito\n",
      "\n",
      "hitherto\n",
      "\n",
      "hornito\n",
      "\n",
      "horopito\n",
      "\n",
      "illuminato\n",
      "\n",
      "impasto\n",
      "\n",
      "inamorato\n",
      "\n",
      "incognito\n",
      "\n",
      "indulto\n",
      "\n",
      "into\n",
      "\n",
      "Ito\n",
      "\n",
      "jato\n",
      "\n",
      "Julianto\n",
      "\n",
      "junto\n",
      "\n",
      "justo\n",
      "\n",
      "keratto\n",
      "\n",
      "keto\n",
      "\n",
      "Koipato\n",
      "\n",
      "koto\n",
      "\n",
      "lacto\n",
      "\n",
      "lagarto\n",
      "\n",
      "lagetto\n",
      "\n",
      "larghetto\n",
      "\n",
      "lazaretto\n",
      "\n",
      "legato\n",
      "\n",
      "lento\n",
      "\n",
      "Leonato\n",
      "\n",
      "leoncito\n",
      "\n",
      "Lepanto\n",
      "\n",
      "Leto\n",
      "\n",
      "libretto\n",
      "\n",
      "literato\n",
      "\n",
      "lotto\n",
      "\n",
      "madrigaletto\n",
      "\n",
      "magneto\n",
      "\n",
      "Malto\n",
      "\n",
      "manifesto\n",
      "\n",
      "manito\n",
      "\n",
      "Manto\n",
      "\n",
      "manto\n",
      "\n",
      "marabuto\n",
      "\n",
      "Maragato\n",
      "\n",
      "marchetto\n",
      "\n",
      "marquito\n",
      "\n",
      "martellato\n",
      "\n",
      "membretto\n",
      "\n",
      "memento\n",
      "\n",
      "Mephisto\n",
      "\n",
      "mercapto\n",
      "\n",
      "mezzotinto\n",
      "\n",
      "Minseito\n",
      "\n",
      "moderato\n",
      "\n",
      "Mosquito\n",
      "\n",
      "mosquito\n",
      "\n",
      "motto\n",
      "\n",
      "mulatto\n",
      "\n",
      "Naoto\n",
      "\n",
      "Negrito\n",
      "\n",
      "nito\n",
      "\n",
      "nonlegato\n",
      "\n",
      "obbligato\n",
      "\n",
      "onto\n",
      "\n",
      "Oporto\n",
      "\n",
      "Orvieto\n",
      "\n",
      "Oto\n",
      "\n",
      "Otto\n",
      "\n",
      "otto\n",
      "\n",
      "palmetto\n",
      "\n",
      "palmito\n",
      "\n",
      "Pandosto\n",
      "\n",
      "panto\n",
      "\n",
      "Papiamento\n",
      "\n",
      "parlamento\n",
      "\n",
      "parto\n",
      "\n",
      "Pashto\n",
      "\n",
      "pato\n",
      "\n",
      "pavonazzetto\n",
      "\n",
      "pentimento\n",
      "\n",
      "perfecto\n",
      "\n",
      "peto\n",
      "\n",
      "photo\n",
      "\n",
      "Pianokoto\n",
      "\n",
      "piblokto\n",
      "\n",
      "pimento\n",
      "\n",
      "pimiento\n",
      "\n",
      "pinto\n",
      "\n",
      "pizzicato\n",
      "\n",
      "Pluto\n",
      "\n",
      "poetito\n",
      "\n",
      "pomato\n",
      "\n",
      "ponto\n",
      "\n",
      "Porokoto\n",
      "\n",
      "portamento\n",
      "\n",
      "porto\n",
      "\n",
      "potato\n",
      "\n",
      "potomato\n",
      "\n",
      "potto\n",
      "\n",
      "presto\n",
      "\n",
      "preveto\n",
      "\n",
      "pronto\n",
      "\n",
      "pronunciamento\n",
      "\n",
      "proto\n",
      "\n",
      "pueblito\n",
      "\n",
      "punketto\n",
      "\n",
      "punto\n",
      "\n",
      "quartetto\n",
      "\n",
      "quarto\n",
      "\n",
      "quatrocento\n",
      "\n",
      "quintato\n",
      "\n",
      "quintetto\n",
      "\n",
      "quinto\n",
      "\n",
      "rebato\n",
      "\n",
      "recto\n",
      "\n",
      "ridotto\n",
      "\n",
      "righto\n",
      "\n",
      "robalito\n",
      "\n",
      "Roberto\n",
      "\n",
      "rondoletto\n",
      "\n",
      "roto\n",
      "\n",
      "rovetto\n",
      "\n",
      "rubato\n",
      "\n",
      "Sacramento\n",
      "\n",
      "sanbenito\n",
      "\n",
      "Santo\n",
      "\n",
      "scruto\n",
      "\n",
      "secreto\n",
      "\n",
      "Seiyuhonto\n",
      "\n",
      "Sesuto\n",
      "\n",
      "sexto\n",
      "\n",
      "sgraffiato\n",
      "\n",
      "sgraffito\n",
      "\n",
      "Shinto\n",
      "\n",
      "Sinto\n",
      "\n",
      "Socorrito\n",
      "\n",
      "sorrento\n",
      "\n",
      "sostenuto\n",
      "\n",
      "Speotyto\n",
      "\n",
      "spiccato\n",
      "\n",
      "staccato\n",
      "\n",
      "stiletto\n",
      "\n",
      "stretto\n",
      "\n",
      "sulfato\n",
      "\n",
      "sulphato\n",
      "\n",
      "Suto\n",
      "\n",
      "taluto\n",
      "\n",
      "taxiauto\n",
      "\n",
      "telephoto\n",
      "\n",
      "teleuto\n",
      "\n",
      "terzetto\n",
      "\n",
      "thereinto\n",
      "\n",
      "thereto\n",
      "\n",
      "thereunto\n",
      "\n",
      "thitherto\n",
      "\n",
      "to\n",
      "\n",
      "tomato\n",
      "\n",
      "Tonto\n",
      "\n",
      "toto\n",
      "\n",
      "trapunto\n",
      "\n",
      "triketo\n",
      "\n",
      "tubulostriato\n",
      "\n",
      "Tyto\n",
      "\n",
      "unto\n",
      "\n",
      "uvito\n",
      "\n",
      "varletto\n",
      "\n",
      "veto\n",
      "\n",
      "vibrato\n",
      "\n",
      "visto\n",
      "\n",
      "vomito\n",
      "\n",
      "Wapato\n",
      "\n",
      "Wappato\n",
      "\n",
      "whereinto\n",
      "\n",
      "whereto\n",
      "\n",
      "whereunto\n",
      "\n",
      "whitherto\n",
      "\n",
      "Wirephoto\n",
      "\n",
      "Witoto\n",
      "\n",
      "Yamato\n",
      "\n",
      "zucchetto\n",
      "\n"
     ]
    }
   ],
   "source": [
    "import sys\n",
    "\n",
    "variable = True\n",
    "\n",
    "def main():\n",
    "    print(sys.path)\n",
    "    for line in sys.stdin:\n",
    "        for word in line.split(' '):\n",
    "            print(word)\n",
    "    with open('/usr/share/dict/web2') as dictionary_file:\n",
    "        for word in dictionary_file:\n",
    "            if word.strip().endswith('to'):\n",
    "                print(word)\n",
    "\n",
    "if __name__ == '__main__':\n",
    "    main()"
   ]
  },
  {
   "cell_type": "code",
   "execution_count": 40,
   "metadata": {},
   "outputs": [
    {
     "data": {
      "text/plain": [
       "'__main__'"
      ]
     },
     "execution_count": 40,
     "metadata": {},
     "output_type": "execute_result"
    }
   ],
   "source": [
    "__name__"
   ]
  },
  {
   "cell_type": "markdown",
   "metadata": {},
   "source": [
    "# Декоратори"
   ]
  },
  {
   "cell_type": "markdown",
   "metadata": {},
   "source": [
    "## Вкладені функції"
   ]
  },
  {
   "cell_type": "code",
   "execution_count": 50,
   "metadata": {},
   "outputs": [
    {
     "name": "stdout",
     "output_type": "stream",
     "text": [
      "11\n"
     ]
    }
   ],
   "source": [
    "def outer(x):\n",
    "    def inner(y):\n",
    "        return x + y\n",
    "    return inner\n",
    " \n",
    "add_five = outer(5)\n",
    "result = add_five(6)\n",
    "print(result)  "
   ]
  },
  {
   "cell_type": "markdown",
   "metadata": {},
   "source": [
    "## Передача функції як аргумент"
   ]
  },
  {
   "cell_type": "code",
   "execution_count": 52,
   "metadata": {},
   "outputs": [
    {
     "name": "stdout",
     "output_type": "stream",
     "text": [
      "-2\n"
     ]
    }
   ],
   "source": [
    "def add(x, y):\n",
    "    return x + y\n",
    "\n",
    "def dif(x, y):\n",
    "    return x - y\n",
    "\n",
    "def calculate(func, x, y):\n",
    "    return func(x, y)\n",
    " \n",
    "result = calculate(dif, 4, 6)\n",
    "print(result)"
   ]
  },
  {
   "cell_type": "markdown",
   "metadata": {},
   "source": [
    "## Повернення функції у вигляді значення"
   ]
  },
  {
   "cell_type": "code",
   "execution_count": 53,
   "metadata": {},
   "outputs": [
    {
     "name": "stdout",
     "output_type": "stream",
     "text": [
      "Hello, Atlantis!\n"
     ]
    }
   ],
   "source": [
    "def greeting(name):\n",
    "    def hello():\n",
    "        return \"Hello, \" + name + \"!\"\n",
    "    return hello\n",
    " \n",
    "greet = greeting(\"Atlantis\")\n",
    "print(greet())"
   ]
  },
  {
   "cell_type": "markdown",
   "metadata": {},
   "source": [
    "## Декоратор — це функція, яка приймає іншу функцію та повертає її модифіковану версію."
   ]
  },
  {
   "cell_type": "code",
   "execution_count": 58,
   "metadata": {},
   "outputs": [
    {
     "name": "stdout",
     "output_type": "stream",
     "text": [
      "I am ordinary\n",
      "-----\n",
      "I got decorated\n",
      "I am ordinary\n"
     ]
    }
   ],
   "source": [
    "def make_pretty(func):\n",
    "    # Визначаємо внутрішню функцію \n",
    "    def inner():\n",
    "        # Додаємо функціонал\n",
    "        print(\"I got decorated\")\n",
    " \n",
    "        # Викликаємо вихідну функцію\n",
    "        func()\n",
    "    # Повертаємо внутрішню функцію\n",
    "    return inner\n",
    " \n",
    "# Визначаємо звичайну функцію\n",
    "def ordinary():\n",
    "    print(\"I am ordinary\")\n",
    "    \n",
    "# Створюємо функцію-декоратор\n",
    "decorated_func = make_pretty(ordinary)\n",
    "\n",
    "ordinary()\n",
    "print('-----')\n",
    "\n",
    "# Викликаємо функцію-декоратор\n",
    "decorated_func()"
   ]
  },
  {
   "cell_type": "markdown",
   "metadata": {},
   "source": [
    "## Символ @ з декоратором"
   ]
  },
  {
   "cell_type": "code",
   "execution_count": 61,
   "metadata": {},
   "outputs": [
    {
     "name": "stdout",
     "output_type": "stream",
     "text": [
      "I got decorated\n",
      "I am ordinary\n"
     ]
    }
   ],
   "source": [
    "def make_pretty(func):\n",
    "    def inner():\n",
    "        print(\"I got decorated\")\n",
    "        func()\n",
    "    return inner\n",
    " \n",
    "@make_pretty\n",
    "def ordinary():\n",
    "    print(\"I am ordinary\")\n",
    "\n",
    "ordinary()"
   ]
  },
  {
   "cell_type": "code",
   "execution_count": 63,
   "metadata": {},
   "outputs": [
    {
     "name": "stdout",
     "output_type": "stream",
     "text": [
      "I am going to divide 2 and 5\n",
      "0.4\n",
      "I am going to divide 2 and 0\n",
      "Whoops! cannot divide\n"
     ]
    }
   ],
   "source": [
    "def smart_divide(func):\n",
    "    def inner(a, b):\n",
    "        print(\"I am going to divide\", a, \"and\", b)\n",
    "        if b == 0:\n",
    "            print(\"Whoops! cannot divide\")\n",
    "            return\n",
    " \n",
    "        return func(a, b)\n",
    "    return inner\n",
    " \n",
    "@smart_divide\n",
    "def divide(a, b):\n",
    "    print(a/b)\n",
    "\n",
    "divide(2,5)\n",
    " \n",
    "divide(2,0)"
   ]
  },
  {
   "cell_type": "markdown",
   "metadata": {},
   "source": [
    "## Ланцюжок декораторів в Python"
   ]
  },
  {
   "cell_type": "code",
   "execution_count": 64,
   "metadata": {},
   "outputs": [
    {
     "name": "stdout",
     "output_type": "stream",
     "text": [
      "***************\n",
      "%%%%%%%%%%%%%%%\n",
      "Hello\n",
      "%%%%%%%%%%%%%%%\n",
      "***************\n"
     ]
    }
   ],
   "source": [
    "def star(func):\n",
    "    def inner(*args, **kwargs):\n",
    "        print(\"*\" * 15)\n",
    "        func(*args, **kwargs)\n",
    "        print(\"*\" * 15)\n",
    "    return inner\n",
    " \n",
    "\n",
    "def percent(func):\n",
    "    def inner(*args, **kwargs):\n",
    "        print(\"%\" * 15)\n",
    "        func(*args, **kwargs)\n",
    "        print(\"%\" * 15)\n",
    "    return inner\n",
    "\n",
    "\n",
    "@star\n",
    "@percent\n",
    "def printer(msg):\n",
    "    print(msg)\n",
    "\n",
    "printer(\"Hello\")"
   ]
  },
  {
   "cell_type": "code",
   "execution_count": null,
   "metadata": {},
   "outputs": [],
   "source": []
  }
 ],
 "metadata": {
  "kernelspec": {
   "display_name": "Python 3 (ipykernel)",
   "language": "python",
   "name": "python3"
  },
  "language_info": {
   "codemirror_mode": {
    "name": "ipython",
    "version": 3
   },
   "file_extension": ".py",
   "mimetype": "text/x-python",
   "name": "python",
   "nbconvert_exporter": "python",
   "pygments_lexer": "ipython3",
   "version": "3.11.5"
  }
 },
 "nbformat": 4,
 "nbformat_minor": 4
}
