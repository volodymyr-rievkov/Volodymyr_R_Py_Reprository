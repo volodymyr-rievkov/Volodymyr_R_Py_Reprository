{
 "cells": [
  {
   "cell_type": "code",
   "execution_count": null,
   "metadata": {},
   "outputs": [],
   "source": [
    "class SomeClass():\n",
    "    attr1 = 42\n",
    "\n",
    "    def method(self, x): #Метод екземпляру\n",
    "        return 2*x\n",
    "\n",
    "    def class_attr(self):\n",
    "        print(\"attr1=\", self.attr1)\n",
    "\n",
    "print(SomeClass.attr1)\n",
    "print(SomeClass().attr1)\n",
    "obj = SomeClass()\n",
    "print(obj.method(6))\n",
    "print(obj.attr1)\n",
    "print(obj.__dict__) #Словник атрибутів\n",
    "obj.class_attr()\n",
    "obj.attr1 = 11\n",
    "obj.class_attr()"
   ]
  },
  {
   "cell_type": "markdown",
   "metadata": {},
   "source": [
    "# Ініціалізація атрибутів класу"
   ]
  },
  {
   "cell_type": "code",
   "execution_count": null,
   "metadata": {},
   "outputs": [],
   "source": [
    "class Point():\n",
    "    def __init__(self, x, y, z):\n",
    "        self.coord = (x, y, z)\n",
    "\n",
    "\n",
    "p = Point(13, 14, 15)\n",
    "print(p.coord)\n",
    "print(p.__dict__)"
   ]
  },
  {
   "cell_type": "markdown",
   "metadata": {},
   "source": [
    "# Динамічні класи"
   ]
  },
  {
   "cell_type": "code",
   "execution_count": null,
   "metadata": {},
   "outputs": [],
   "source": [
    "class SomeClass(object):\n",
    "    pass"
   ]
  },
  {
   "cell_type": "code",
   "execution_count": null,
   "metadata": {},
   "outputs": [],
   "source": [
    "def squareMethod(self, x):\n",
    "    return x*x"
   ]
  },
  {
   "cell_type": "code",
   "execution_count": null,
   "metadata": {},
   "outputs": [],
   "source": [
    "SomeClass.square = squareMethod\n",
    "obj = SomeClass()\n",
    "obj.square(5)"
   ]
  },
  {
   "cell_type": "code",
   "execution_count": null,
   "metadata": {},
   "outputs": [],
   "source": [
    "SomeClass.square(2)"
   ]
  },
  {
   "cell_type": "markdown",
   "metadata": {},
   "source": [
    "# Статичні і класові методи"
   ]
  },
  {
   "cell_type": "code",
   "execution_count": null,
   "metadata": {},
   "outputs": [],
   "source": [
    "class SomeClass(object):\n",
    "    @staticmethod\n",
    "    def hello(): # незалежить від екземпляру класу\n",
    "        print(\"Hello, world\")\n",
    "    @classmethod\n",
    "    def hello_class(cls): #Аналогічні методам екземплярів але можуть виконуватись без ініціалізації\n",
    "        print('Hello, класс {}'.format(cls.__name__))\n",
    "\n",
    "SomeClass.hello() #Доступ із класа\n",
    "obj = SomeClass() #Доступ із екземпляра класа\n",
    "obj.hello()\n",
    "SomeClass.hello_class()\n",
    "obj.hello_class()\n",
    "\n",
    "# Методи доступні без ініціалізації класу"
   ]
  },
  {
   "cell_type": "markdown",
   "metadata": {},
   "source": [
    "# Життєвий цикл об'єкта"
   ]
  },
  {
   "cell_type": "code",
   "execution_count": null,
   "metadata": {},
   "outputs": [],
   "source": [
    "class SomeClass(object):\n",
    "    def __new__(cls): #створює новий екземпляр класу.\n",
    "        print(\"new\")\n",
    "        return super(SomeClass, cls).__new__(cls)\n",
    "\n",
    "    def __init__(self):\n",
    "        print(\"init\")\n",
    "\n",
    "obj = SomeClass()"
   ]
  },
  {
   "cell_type": "markdown",
   "metadata": {},
   "source": [
    "# Метод __new__ може бути дуже корисний для вирішення ряду завдань, наприклад, створення іммутабельних об'єктів або реалізації паттерна Сінглтон:"
   ]
  },
  {
   "cell_type": "code",
   "execution_count": null,
   "metadata": {},
   "outputs": [],
   "source": [
    "class Singleton(object):\n",
    "    obj = None # Єдиний екземпляр класу\n",
    "\n",
    "    def __new__(cls, *args, **kwargs):\n",
    "        if cls.obj is None:\n",
    "            cls.obj = object.__new__(cls, *args, **kwargs)\n",
    "            # cls.obj = super(Singleton, cls).__new__(cls)\n",
    "        return cls.obj\n",
    "        \n",
    "single = Singleton()\n",
    "single.attr = 42\n",
    "newSingle = Singleton()\n",
    "print(newSingle.attr) \n",
    "print(newSingle is single)\n",
    "\n",
    "newSingle.attr = 142\n",
    "print(single.attr)\n",
    "print(newSingle.attr)"
   ]
  },
  {
   "cell_type": "code",
   "execution_count": null,
   "metadata": {},
   "outputs": [],
   "source": [
    "# можна приймати участь у знищенні об'єктів\n",
    "class SomeClass(object):\n",
    "    def __init__(self, name):\n",
    "        self.name = name\n",
    "\n",
    "    def __del__(self):\n",
    "        print('Знищується об\\'єкт {} класа SomeClass'.format(self.name))\n",
    "\n",
    "obj = SomeClass(\"John\");\n",
    "del obj # Знищується об'ект John класа SomeClass\n",
    "obj"
   ]
  },
  {
   "cell_type": "code",
   "execution_count": null,
   "metadata": {},
   "outputs": [],
   "source": [
    "#Об'єкт как функція"
   ]
  },
  {
   "cell_type": "code",
   "execution_count": null,
   "metadata": {},
   "outputs": [],
   "source": [
    "class Multiplier:\n",
    "    def __call__(self, x, y):\n",
    "        return x*y\n",
    "\n",
    "multiply = Multiplier()\n",
    "print(multiply(19, 19))\n",
    "print(multiply.__call__(19, 19))"
   ]
  },
  {
   "cell_type": "code",
   "execution_count": null,
   "metadata": {},
   "outputs": [],
   "source": [
    "# імітація контейнерів"
   ]
  },
  {
   "cell_type": "code",
   "execution_count": null,
   "metadata": {},
   "outputs": [],
   "source": [
    "list = ['hello', 'world']\n",
    "len(list)"
   ]
  },
  {
   "cell_type": "code",
   "execution_count": null,
   "metadata": {},
   "outputs": [],
   "source": [
    "class Collection:\n",
    "    def __init__(self, list):\n",
    "        self.list = list\n",
    "    def __len__(self):\n",
    "        return len(self.list)\n",
    "collection = Collection(list)\n",
    "len(collection)"
   ]
  },
  {
   "cell_type": "markdown",
   "metadata": {},
   "source": [
    "# імітація математичних операцій"
   ]
  },
  {
   "cell_type": "code",
   "execution_count": null,
   "metadata": {},
   "outputs": [],
   "source": [
    "class SomeClass:\n",
    "    def __init__(self, value):\n",
    "        self.value = value\n",
    "\n",
    "    def __mul__(self, number):\n",
    "        return self.value * number\n",
    "\n",
    "obj = SomeClass(42)\n",
    "print(obj * 100) "
   ]
  },
  {
   "cell_type": "markdown",
   "metadata": {},
   "source": [
    "# Магічні методи Python для імітації математичних операцій\n",
    "\n",
    "## 1. Арифметичні операції:\n",
    "- `__add__(self, other)` — додавання (`+`)\n",
    "- `__sub__(self, other)` — віднімання (`-`)\n",
    "- `__mul__(self, other)` — множення (`*`)\n",
    "- `__truediv__(self, other)` — ділення з плаваючою комою (`/`)\n",
    "- `__floordiv__(self, other)` — цілочисельне ділення (`//`)\n",
    "- `__mod__(self, other)` — залишок від ділення (`%`)\n",
    "- `__pow__(self, other)` — піднесення до степеня (`**`)\n",
    "- `__neg__(self)` — унарний мінус (`-self`)\n",
    "- `__pos__(self)` — унарний плюс (`+self`)\n",
    "- `__abs__(self)` — модуль (абсолютне значення) (`abs(self)`)\n",
    "- `__invert__(self)` — побітове заперечення (`~self`)\n",
    "\n",
    "## 2. Операції порівняння:\n",
    "- `__lt__(self, other)` — менше (`<`)\n",
    "- `__le__(self, other)` — менше або дорівнює (`<=`)\n",
    "- `__eq__(self, other)` — дорівнює (`==`)\n",
    "- `__ne__(self, other)` — не дорівнює (`!=`)\n",
    "- `__gt__(self, other)` — більше (`>`)\n",
    "- `__ge__(self, other)` — більше або дорівнює (`>=`)\n",
    "\n",
    "## 3. Побітові операції:\n",
    "- `__and__(self, other)` — побітове \"і\" (`&`)\n",
    "- `__or__(self, other)` — побітове \"або\" (`|`)\n",
    "- `__xor__(self, other)` — побітове \"виключне або\" (`^`)\n",
    "- `__lshift__(self, other)` — побітовий зсув вліво (`<<`)\n",
    "- `__rshift__(self, other)` — побітовий зсув вправо (`>>`)\n",
    "\n",
    "## 4. Операції з присвоєнням:\n",
    "- `__iadd__(self, other)` — додавання з присвоєнням (`+=`)\n",
    "- `__isub__(self, other)` — віднімання з присвоєнням (`-=`)\n",
    "- `__imul__(self, other)` — множення з присвоєнням (`*=`)\n",
    "- `__itruediv__(self, other)` — ділення з присвоєнням (`/=`)\n",
    "- `__ifloordiv__(self, other)` — цілочисельне ділення з присвоєнням (`//=`)\n",
    "- `__imod__(self, other)` — залишок з присвоєнням (`%=`)\n",
    "- `__ipow__(self, other)` — піднесення до степеня з присвоєнням (`**=`)\n",
    "- `__iand__(self, other)` — побітове \"і\" з присвоєнням (`&=`)\n",
    "- `__ior__(self, other)` — побітове \"або\" з присвоєнням (`|=`)\n",
    "- `__ixor__(self, other)` — побітове \"виключне або\" з присвоєнням (`^=`)\n",
    "- `__ilshift__(self, other)` — зсув вліво з присвоєнням (`<<=`)\n",
    "- `__irshift__(self, other)` — зсув вправо з присвоєнням (`>>=`)\n",
    "\n",
    "## 5. Операції доступу:\n",
    "- `__getitem__(self, key)` — доступ до елемента за індексом (`self[key]`)\n",
    "- `__setitem__(self, key, value)` — присвоєння елемента за індексом (`self[key] = value`)\n",
    "- `__delitem__(self, key)` — видалення елемента за індексом (`del self[key]`)\n",
    "\n",
    "## 6. Інші методи:\n",
    "- `__repr__(self)` — офіційне представлення об'єкта (наприклад, для відладки)\n",
    "- `__str__(self)` — строкове представлення об'єкта (наприклад, для виводу)\n",
    "- `__len__(self)` — довжина об'єкта (`len(self)`)\n",
    "- `__call__(self, *args, **kwargs)` — робить об'єкт викличним як функцію (`self(*args, **kwargs)`)\n",
    "- `__iter__(self)` — повертає ітератор (використовується в циклах `for`)\n",
    "- `__next__(self)` — повертає наступний елемент ітератора\n",
    "- `__contains__(self, item)` — перевірка наявності елемента (`item in self`)"
   ]
  },
  {
   "cell_type": "markdown",
   "metadata": {},
   "source": [
    "# Принципи ООП на Python"
   ]
  },
  {
   "cell_type": "markdown",
   "metadata": {},
   "source": [
    "# інкапсуляція"
   ]
  },
  {
   "cell_type": "code",
   "execution_count": null,
   "metadata": {},
   "outputs": [],
   "source": [
    "class SomeClass():\n",
    "    def __init__(self, value):\n",
    "        self.__value = value #приватна змінна пчинається із __\n",
    "\n",
    "    def getvalue(self): # отримання значения атрибута\n",
    "        return self.__value\n",
    "\n",
    "    def setvalue(self, value): # установка значення атрибута\n",
    "        self.__value = value\n",
    "\n",
    "    def delvalue(self): # знищення атрибута\n",
    "        del self.__value\n",
    "\n",
    "    value = property(getvalue, setvalue, delvalue, \"Властивість value\") # Функція property() використовується для визначення властивостей в класах. \n",
    "\n",
    "obj = SomeClass(42)\n",
    "\n",
    "# print(obj.__value)\n",
    "# print(obj._SomeClass__value) #обхід приватних змінних\n",
    "# obj._SomeClass__value = 32\n",
    "print(obj.value)\n",
    "obj.value = 43\n",
    "print(obj.value)"
   ]
  },
  {
   "cell_type": "code",
   "execution_count": null,
   "metadata": {},
   "outputs": [],
   "source": [
    "class SomeClass():\n",
    "    attr1 = 42\n",
    "\n",
    "    def __getattr__(self, attr):\n",
    "        return attr.upper()\n",
    "\n",
    "obj = SomeClass()\n",
    "print(obj.attr1)\n",
    "print(obj.attr2)"
   ]
  },
  {
   "cell_type": "markdown",
   "metadata": {},
   "source": [
    "# Наслідування"
   ]
  },
  {
   "cell_type": "code",
   "execution_count": null,
   "metadata": {},
   "outputs": [],
   "source": [
    "class Horse():\n",
    "    isHorse = True\n",
    "\n",
    "class Donkey():\n",
    "    isDonkey = True\n",
    "\n",
    "class Mule(Horse, Donkey):\n",
    "    pass\n",
    "    \n",
    "mule = Mule()\n",
    "print(mule.isHorse)\n",
    "print(mule.isDonkey)"
   ]
  },
  {
   "cell_type": "markdown",
   "metadata": {},
   "source": [
    "# асоціація"
   ]
  },
  {
   "cell_type": "markdown",
   "metadata": {},
   "source": [
    "# приклад композиції"
   ]
  },
  {
   "cell_type": "code",
   "execution_count": null,
   "metadata": {},
   "outputs": [],
   "source": [
    "class Salary:\n",
    "    def __init__(self,pay):\n",
    "        self.pay = pay\n",
    "\n",
    "    def getTotal(self):\n",
    "        return (self.pay*12)\n",
    "\n",
    "class Employee:\n",
    "    def __init__(self,pay,bonus):\n",
    "        self.pay = pay\n",
    "        self.bonus = bonus\n",
    "        self.salary = Salary(self.pay)\n",
    "\n",
    "    def annualSalary(self):\n",
    "        return \"Total: \" + str(self.salary.getTotal() + self.bonus)\n",
    "\n",
    "employee = Employee(100,10)\n",
    "print(employee.annualSalary())"
   ]
  },
  {
   "cell_type": "markdown",
   "metadata": {},
   "source": [
    "# приклад агрегації"
   ]
  },
  {
   "cell_type": "code",
   "execution_count": null,
   "metadata": {},
   "outputs": [],
   "source": [
    "class Salary(object):\n",
    "    def __init__(self, pay):\n",
    "        self.pay = pay\n",
    "\n",
    "    def getTotal(self):\n",
    "        return (self.pay * 12)\n",
    "\n",
    "class Employee(object):\n",
    "    def __init__(self, pay, bonus):\n",
    "        self.pay = pay\n",
    "        self.bonus = bonus\n",
    "\n",
    "    def annualSalary(self):\n",
    "        return \"Total: \" + str(self.pay.getTotal() + self.bonus)\n",
    "\n",
    "\n",
    "salary = Salary(100)\n",
    "employee = Employee(salary, 10)\n",
    "print(employee.annualSalary())"
   ]
  },
  {
   "cell_type": "markdown",
   "metadata": {},
   "source": [
    "# super доступ до методу батька"
   ]
  },
  {
   "cell_type": "code",
   "execution_count": null,
   "metadata": {},
   "outputs": [
    {
     "name": "stdout",
     "output_type": "stream",
     "text": [
      "Child init before\n",
      "Parent init\n",
      "Child init after\n",
      "Child method\n",
      "Parent init\n"
     ]
    }
   ],
   "source": [
    "class Parent():\n",
    "    def __init__(self):\n",
    "        print('Parent init')\n",
    "\n",
    "    def method(self):\n",
    "        print('Parent method')\n",
    "\n",
    "class Child(Parent):\n",
    "    def __init__(self):\n",
    "        print('Child init before')\n",
    "        Parent.__init__(self)\n",
    "        print('Child init after')\n",
    "\n",
    "    def method(self):\n",
    "        print('Child method')\n",
    "        super(Child, self).method()\n",
    "\n",
    "child = Child() # Parent init\n",
    "child.method() # Parent method"
   ]
  },
  {
   "cell_type": "code",
   "execution_count": null,
   "metadata": {},
   "outputs": [],
   "source": [
    "class Animal(object):\n",
    "    def __init__(self, animal_type):\n",
    "        print('Animal Type:', animal_type)\n",
    "    \n",
    "class Mammal(Animal):\n",
    "    def __init__(self):\n",
    "         # Викликаємо суперклас\n",
    "        super().__init__('Mammal')\n",
    "        print('Mammals give birth directly')\n",
    "    \n",
    "dog = Mammal()"
   ]
  },
  {
   "cell_type": "markdown",
   "metadata": {
    "tags": []
   },
   "source": [
    "# Функція super() з одинарним успадкуванням"
   ]
  },
  {
   "cell_type": "code",
   "execution_count": null,
   "metadata": {},
   "outputs": [],
   "source": [
    "class Mammal(object):\n",
    "    def __init__(self, mammalName):\n",
    "        print(mammalName, 'is a warm-blooded animal.')\n",
    "    \n",
    "class Dog(Mammal):\n",
    "    def __init__(self):\n",
    "        print('Dog has four legs.')\n",
    "        super().__init__('Dog')\n",
    "    \n",
    "d1 = Dog()"
   ]
  },
  {
   "cell_type": "markdown",
   "metadata": {},
   "source": [
    "# Функція super() з множинним успадкуванням"
   ]
  },
  {
   "cell_type": "code",
   "execution_count": null,
   "metadata": {},
   "outputs": [],
   "source": [
    "class Animal:\n",
    "    def __init__(self, Animal):\n",
    "        print(Animal, 'is an animal.')\n",
    "    \n",
    "class Mammal(Animal):\n",
    "    def __init__(self, mammalName):\n",
    "        print(mammalName, 'is a warm-blooded animal.')\n",
    "        super().__init__(mammalName)\n",
    "    \n",
    "class NonWingedMammal(Mammal):\n",
    "      def __init__(self, NonWingedMammal):\n",
    "        print(NonWingedMammal, \"can't fly.\")\n",
    "        super().__init__(NonWingedMammal)\n",
    "\n",
    "class NonMarineMammal(Mammal):\n",
    "      def __init__(self, NonMarineMammal):\n",
    "        print(NonMarineMammal, \"can't swim.\")\n",
    "        super().__init__(NonMarineMammal)\n",
    "\n",
    "class Dog(NonMarineMammal, NonWingedMammal):\n",
    "      def __init__(self):\n",
    "        print('Dog has 4 legs.');\n",
    "        super().__init__('Dog')\n",
    "    \n",
    "d = Dog()\n",
    "print('')\n",
    "bat = NonMarineMammal('Bat')"
   ]
  },
  {
   "cell_type": "markdown",
   "metadata": {},
   "source": [
    "# поліморфізм"
   ]
  },
  {
   "cell_type": "code",
   "execution_count": null,
   "metadata": {
    "tags": []
   },
   "outputs": [],
   "source": [
    "class Mammal:\n",
    "    def move(self):\n",
    "        print('Рухається')\n",
    "\n",
    "class Hare(Mammal):\n",
    "    def move(self):\n",
    "        print('Стрибає' )\n",
    "\n",
    "animal = Mammal()\n",
    "animal.move() \n",
    "hare = Hare()\n",
    "hare.move() "
   ]
  },
  {
   "cell_type": "code",
   "execution_count": null,
   "metadata": {},
   "outputs": [],
   "source": [
    "# робота з класом зі схожим интерфейсом\n",
    "# Добре реалізовано в методах штучного інтелекту\n",
    "\n",
    "class English:\n",
    "    def greeting(self):\n",
    "        print (\"Hello\")\n",
    "\n",
    "class French:\n",
    "    def greeting(self):\n",
    "        print (\"Bonjour\")\n",
    "\n",
    "def intro(language):\n",
    "    language.greeting()\n",
    "\n",
    "john = English()\n",
    "gerard = French()\n",
    "intro(john) \n",
    "intro(gerard) \n",
    "john.greeting()\n",
    "gerard.greeting()"
   ]
  },
  {
   "cell_type": "code",
   "execution_count": null,
   "metadata": {},
   "outputs": [],
   "source": []
  }
 ],
 "metadata": {
  "kernelspec": {
   "display_name": "Python 3 (ipykernel)",
   "language": "python",
   "name": "python3"
  },
  "language_info": {
   "codemirror_mode": {
    "name": "ipython",
    "version": 3
   },
   "file_extension": ".py",
   "mimetype": "text/x-python",
   "name": "python",
   "nbconvert_exporter": "python",
   "pygments_lexer": "ipython3",
   "version": "3.9.12"
  }
 },
 "nbformat": 4,
 "nbformat_minor": 4
}
